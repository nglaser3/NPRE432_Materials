{
 "cells": [
  {
   "cell_type": "code",
   "execution_count": 6,
   "id": "277d8402-de9d-434f-a0a0-9453837490ff",
   "metadata": {},
   "outputs": [],
   "source": [
    "import numpy as np\n",
    "import pandas as pd\n",
    "import matplotlib.pyplot as plt\n",
    "import matplotlib as mpl\n",
    "import os\n",
    "import glob"
   ]
  },
  {
   "cell_type": "code",
   "execution_count": 83,
   "id": "09c7ad28-81ce-4182-930f-f0fb49af99c5",
   "metadata": {},
   "outputs": [
    {
     "data": {
      "text/html": [
       "<div>\n",
       "<style scoped>\n",
       "    .dataframe tbody tr th:only-of-type {\n",
       "        vertical-align: middle;\n",
       "    }\n",
       "\n",
       "    .dataframe tbody tr th {\n",
       "        vertical-align: top;\n",
       "    }\n",
       "\n",
       "    .dataframe thead th {\n",
       "        text-align: right;\n",
       "    }\n",
       "</style>\n",
       "<table border=\"1\" class=\"dataframe\">\n",
       "  <thead>\n",
       "    <tr style=\"text-align: right;\">\n",
       "      <th></th>\n",
       "      <th>(s)</th>\n",
       "      <th>(mm)</th>\n",
       "      <th>(kN)</th>\n",
       "      <th>(mm/mm)</th>\n",
       "    </tr>\n",
       "  </thead>\n",
       "  <tbody>\n",
       "    <tr>\n",
       "      <th>0</th>\n",
       "      <td>0.00</td>\n",
       "      <td>0.00</td>\n",
       "      <td>0.000380</td>\n",
       "      <td>0.000017</td>\n",
       "    </tr>\n",
       "    <tr>\n",
       "      <th>1</th>\n",
       "      <td>0.50</td>\n",
       "      <td>0.02</td>\n",
       "      <td>0.000389</td>\n",
       "      <td>0.000010</td>\n",
       "    </tr>\n",
       "    <tr>\n",
       "      <th>2</th>\n",
       "      <td>1.00</td>\n",
       "      <td>0.04</td>\n",
       "      <td>0.000602</td>\n",
       "      <td>0.000020</td>\n",
       "    </tr>\n",
       "    <tr>\n",
       "      <th>3</th>\n",
       "      <td>1.50</td>\n",
       "      <td>0.06</td>\n",
       "      <td>0.001227</td>\n",
       "      <td>0.000017</td>\n",
       "    </tr>\n",
       "    <tr>\n",
       "      <th>4</th>\n",
       "      <td>2.00</td>\n",
       "      <td>0.08</td>\n",
       "      <td>0.000958</td>\n",
       "      <td>0.000014</td>\n",
       "    </tr>\n",
       "    <tr>\n",
       "      <th>...</th>\n",
       "      <td>...</td>\n",
       "      <td>...</td>\n",
       "      <td>...</td>\n",
       "      <td>...</td>\n",
       "    </tr>\n",
       "    <tr>\n",
       "      <th>176</th>\n",
       "      <td>88.00</td>\n",
       "      <td>3.67</td>\n",
       "      <td>99.220000</td>\n",
       "      <td>0.059810</td>\n",
       "    </tr>\n",
       "    <tr>\n",
       "      <th>177</th>\n",
       "      <td>88.50</td>\n",
       "      <td>3.69</td>\n",
       "      <td>99.450000</td>\n",
       "      <td>0.060310</td>\n",
       "    </tr>\n",
       "    <tr>\n",
       "      <th>178</th>\n",
       "      <td>89.00</td>\n",
       "      <td>3.71</td>\n",
       "      <td>99.680000</td>\n",
       "      <td>0.060830</td>\n",
       "    </tr>\n",
       "    <tr>\n",
       "      <th>179</th>\n",
       "      <td>89.50</td>\n",
       "      <td>3.73</td>\n",
       "      <td>99.900000</td>\n",
       "      <td>0.061360</td>\n",
       "    </tr>\n",
       "    <tr>\n",
       "      <th>180</th>\n",
       "      <td>89.68</td>\n",
       "      <td>3.74</td>\n",
       "      <td>100.000000</td>\n",
       "      <td>0.061560</td>\n",
       "    </tr>\n",
       "  </tbody>\n",
       "</table>\n",
       "<p>181 rows × 4 columns</p>\n",
       "</div>"
      ],
      "text/plain": [
       "       (s)  (mm)        (kN)   (mm/mm)\n",
       "0     0.00  0.00    0.000380  0.000017\n",
       "1     0.50  0.02    0.000389  0.000010\n",
       "2     1.00  0.04    0.000602  0.000020\n",
       "3     1.50  0.06    0.001227  0.000017\n",
       "4     2.00  0.08    0.000958  0.000014\n",
       "..     ...   ...         ...       ...\n",
       "176  88.00  3.67   99.220000  0.059810\n",
       "177  88.50  3.69   99.450000  0.060310\n",
       "178  89.00  3.71   99.680000  0.060830\n",
       "179  89.50  3.73   99.900000  0.061360\n",
       "180  89.68  3.74  100.000000  0.061560\n",
       "\n",
       "[181 rows x 4 columns]"
      ]
     },
     "execution_count": 83,
     "metadata": {},
     "output_type": "execute_result"
    }
   ],
   "source": [
    "'''\n",
    "Functions\n",
    "'''\n",
    "#MAKE SURE THAT THE HEADER IS THE SAME! PMMA IS NOT\n",
    "#add 4 lines of: ,, anywhere before the data in PMMA and this will even it out\n",
    "def file_reader(files):\n",
    "    files = glob.glob(files)\n",
    "    data = {}\n",
    "    for file in files:\n",
    "        name = (file.split('/')[1]).split('_')[0][4:]\n",
    "        data[name] = pd.read_csv(file,header=28)\n",
    "    return data\n",
    "        \n",
    "Dict = file_reader('data/*.csv')\n",
    "Dict['1045NM'] "
   ]
  },
  {
   "cell_type": "code",
   "execution_count": 62,
   "id": "ab5c7c27-b1d7-47ed-8675-352293a924da",
   "metadata": {},
   "outputs": [
    {
     "data": {
      "text/plain": [
       "dict_keys(['2024', 'PMMA', '1018CR', '1045NM'])"
      ]
     },
     "execution_count": 62,
     "metadata": {},
     "output_type": "execute_result"
    }
   ],
   "source": [
    "Dict.keys()"
   ]
  },
  {
   "cell_type": "code",
   "execution_count": 38,
   "id": "c363c2e1-fb70-4a3f-9d04-64e6c2e4d676",
   "metadata": {},
   "outputs": [
    {
     "data": {
      "text/plain": [
       "['data/N02D2024_1.csv',\n",
       " 'data/N02DPMMA_1.csv',\n",
       " 'data/N02D1018CR_1.csv',\n",
       " 'data/N02D1045NM_1.csv']"
      ]
     },
     "execution_count": 38,
     "metadata": {},
     "output_type": "execute_result"
    }
   ],
   "source": [
    "glob.glob('data/*.csv')"
   ]
  },
  {
   "cell_type": "code",
   "execution_count": null,
   "id": "1b464de8-253e-4ded-a14e-aaf88b939341",
   "metadata": {},
   "outputs": [],
   "source": []
  }
 ],
 "metadata": {
  "kernelspec": {
   "display_name": "Python 3 (ipykernel)",
   "language": "python",
   "name": "python3"
  },
  "language_info": {
   "codemirror_mode": {
    "name": "ipython",
    "version": 3
   },
   "file_extension": ".py",
   "mimetype": "text/x-python",
   "name": "python",
   "nbconvert_exporter": "python",
   "pygments_lexer": "ipython3",
   "version": "3.10.14"
  }
 },
 "nbformat": 4,
 "nbformat_minor": 5
}
