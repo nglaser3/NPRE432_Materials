{
 "cells": [
  {
   "cell_type": "code",
   "execution_count": 1,
   "id": "9cdb59d9-2cc1-4393-bc25-9f01d1274444",
   "metadata": {},
   "outputs": [],
   "source": [
    "import pandas as pd \n",
    "import numpy as np\n",
    "import glob, os, sys\n",
    "sys.path.append('../')\n",
    "from ReadData import ReadFiles"
   ]
  },
  {
   "cell_type": "code",
   "execution_count": 2,
   "id": "6a17e8ec-5f34-4ea2-abd1-52191c40e1f7",
   "metadata": {},
   "outputs": [
    {
     "name": "stdout",
     "output_type": "stream",
     "text": [
      "Failed to find parameter \"Final Gage Diameter\" in data/N02DBR_1.csv \n",
      "Make sure you spelled it right / it exists (it may     not)\n",
      "\n",
      "Done :)\n"
     ]
    }
   ],
   "source": [
    "path = r'data/*.csv'\n",
    "files = glob.glob(path)\n",
    "input_params = ['Material','Gage Diameter','Final Gage Diameter','(s)']\n",
    "\n",
    "data = ReadFiles(files,input_params)"
   ]
  },
  {
   "cell_type": "code",
   "execution_count": 5,
   "id": "5550c007-6c76-4503-a748-c40c62852342",
   "metadata": {},
   "outputs": [
    {
     "data": {
      "text/plain": [
       "dict_keys(['2024', 'PMMA', '1018', 'BR', '304', '1045'])"
      ]
     },
     "execution_count": 5,
     "metadata": {},
     "output_type": "execute_result"
    }
   ],
   "source": [
    "data.keys()"
   ]
  },
  {
   "cell_type": "code",
   "execution_count": null,
   "id": "f08a9ccc-68de-4395-b37f-455b1f170e54",
   "metadata": {},
   "outputs": [],
   "source": []
  }
 ],
 "metadata": {
  "kernelspec": {
   "display_name": "Python 3 (ipykernel)",
   "language": "python",
   "name": "python3"
  },
  "language_info": {
   "codemirror_mode": {
    "name": "ipython",
    "version": 3
   },
   "file_extension": ".py",
   "mimetype": "text/x-python",
   "name": "python",
   "nbconvert_exporter": "python",
   "pygments_lexer": "ipython3",
   "version": "3.10.14"
  }
 },
 "nbformat": 4,
 "nbformat_minor": 5
}
