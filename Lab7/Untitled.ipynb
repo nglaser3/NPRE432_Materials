{
 "cells": [
  {
   "cell_type": "code",
   "execution_count": 263,
   "id": "147fde74-015e-40f1-b49a-402324fefbeb",
   "metadata": {},
   "outputs": [],
   "source": [
    "import os, glob\n",
    "import matplotlib.pyplot as plt\n",
    "import numpy as np\n",
    "import scipy as scp\n",
    "import pandas as pd\n",
    "np.set_printoptions(precision=3)"
   ]
  },
  {
   "cell_type": "code",
   "execution_count": 228,
   "id": "707ac255-177a-47cf-89b9-4f2c56bd7309",
   "metadata": {
    "jupyter": {
     "source_hidden": true
    }
   },
   "outputs": [],
   "source": [
    "def reader(filepath):\n",
    "    all_files = glob.glob(path+'*')[1:-1]\n",
    "    \n",
    "    vals_of_interest = ['Material','Weld Type','Width of Specimen and Weld w','Specimen Thickness t','Weld Thickness tw','Specimen Gage Length','Fracture Type and Location','Unwelded Gap Thickness tg (mm)','Maximum Force']\n",
    "    stop_param = '(s)'\n",
    "    returnDict = {}\n",
    "    for file in all_files:\n",
    "        \n",
    "        with open(file,'r') as file:\n",
    "            Dict = {}\n",
    "                    \n",
    "            for i in range(30):\n",
    "                line = file.readline()\n",
    "                params = line.split(',')\n",
    "                if params[0] in vals_of_interest:\n",
    "                    if params[0] != 'Material':\n",
    "                        try:\n",
    "                            Dict[params[0]] = float(params[-1].split('\\n')[0].split('\"')[1])\n",
    "                        except:\n",
    "                            Dict[params[0]] = params[-1].split('\\n')[0].split('\"')[1]\n",
    "                    if params[0] == 'Material':\n",
    "                        Dict[params[0]] = params[-1].split('\\n')[0].split('\"')[1]\n",
    "                elif params[0] == stop_param:\n",
    "                    break\n",
    "            mat = Dict.pop('Material')+  '_'+ Dict.pop('Weld Type')\n",
    "        \n",
    "            returnDict[mat] = Dict\n",
    "            \n",
    "            data = pd.read_csv(file,header=None)\n",
    "            _data = data[2]\n",
    "            where = (np.where(_data <= 1)[0])\n",
    "            ind_loc = where[min(np.where( where >= 20)[0])]\n",
    "            \n",
    "            returnDict[mat]['time'] = np.array(data[0][:ind_loc])\n",
    "            returnDict[mat]['disp'] = np.array(data[1][:ind_loc])\n",
    "            returnDict[mat]['force'] = np.array(data[2][:ind_loc])\n",
    "            returnDict[mat]['strain'] = returnDict[mat]['disp']/Dict['Specimen Gage Length']\n",
    "            area = Dict['Width of Specimen and Weld w'] * Dict['Specimen Thickness t']\n",
    "            returnDict[mat]['stress'] = returnDict[mat]['force']/area * 1e3\n",
    "            \n",
    "    return returnDict\n",
    "D = reader(path)\n",
    "D['q2steel'] = {}\n",
    "D['q2alum'] = {}\n",
    "steel = pd.read_csv('data/steel.csv',header=26)\n",
    "D['q2steel']['strain'] = np.array(steel['(mm/mm)'])\n",
    "D['q2steel']['stress'] = np.array(steel['(N)']) / (7.1/2)**2 / np.pi\n",
    "alum = pd.read_csv('data/alum.csv',header=26)\n",
    "D['q2alum']['strain'] = np.array(alum['(mm/mm)'])[:-1]\n",
    "D['q2alum']['stress'] = np.array(alum['(N)'])[:-1] / (7.13/2)**2 / np.pi"
   ]
  },
  {
   "cell_type": "markdown",
   "id": "24c12c9e-89fc-4a0a-8178-1a22c34ceadb",
   "metadata": {
    "jp-MarkdownHeadingCollapsed": true
   },
   "source": [
    "## Deliv 1"
   ]
  },
  {
   "cell_type": "code",
   "execution_count": 229,
   "id": "c90a0bac-63f0-46ff-9ddd-9fc44d0cba40",
   "metadata": {},
   "outputs": [],
   "source": [
    "fig,ax = plt.subplot_mosaic([['1018','6061']],figsize = (12,5))\n",
    "for key in D.keys():\n",
    "    for plot in ax.keys():\n",
    "        if plot in key:\n",
    "            label = key.split('_')[1]\n",
    "            ax[plot].plot(D[key]['disp'],D[key]['force'],'.',label = label)\n",
    "\n",
    "for plot in ax.keys():\n",
    "    ax[plot].grid()\n",
    "    ax[plot].legend()\n",
    "    ax[plot].set_ylabel('Load  [kN]')\n",
    "    ax[plot].set_xlabel('Displacement  [mm]')\n",
    "fig.savefig('plots/q1-1018-6061.png',dpi = 600)\n",
    "plt.close()"
   ]
  },
  {
   "cell_type": "markdown",
   "id": "122cf1aa-50b9-47ff-9d8d-c27442b3e0ac",
   "metadata": {
    "jp-MarkdownHeadingCollapsed": true
   },
   "source": [
    "## Deliv 2"
   ]
  },
  {
   "cell_type": "code",
   "execution_count": 273,
   "id": "b9d5a6d9-b2a3-40e6-ba8d-eaf3ee8a42ed",
   "metadata": {
    "jupyter": {
     "source_hidden": true
    }
   },
   "outputs": [],
   "source": [
    "def to_latex(name, arr):\n",
    "    try:\n",
    "        returner = [str(np.around(arg,3))+ ' & ' for arg in arr]\n",
    "    except:\n",
    "        returner = [arg + ' & ' for arg in arr]\n",
    "    string = ''.join(returner)\n",
    "    return name + ' & ' + string[:-3] + ' \\\\\\\\'"
   ]
  },
  {
   "cell_type": "code",
   "execution_count": 276,
   "id": "ce65d1ce-9428-480e-b41b-882eb74982be",
   "metadata": {
    "collapsed": true,
    "jupyter": {
     "outputs_hidden": true,
     "source_hidden": true
    }
   },
   "outputs": [
    {
     "name": "stdout",
     "output_type": "stream",
     "text": [
      "Material & 1018 Steel & 6061 Aluminum & 1018 Steel & 6061 Aluminum \\\\\n",
      "\\hline\n",
      "Yield Strength & 145.204 & 39.908 & 671.854 & 293.534 \\\\\n",
      "\\hline\n",
      "Ultimate Tensile Strength & 146.3 & 523.18 & 695.849 & 317.578 \\\\\n",
      "\\hline\n"
     ]
    }
   ],
   "source": [
    "fig,ax = plt.subplots()\n",
    "ys = []\n",
    "uts = []\n",
    "labels = []\n",
    "for key in D.keys():\n",
    "    if 'Chamfer' in key:\n",
    "        label = key.replace('_',' ')\n",
    "        x,y = D[key]['strain'],D[key]['stress']\n",
    "        ax.plot(x,y,label = label)\n",
    "        if '1018' in key:\n",
    "            l,u = 5,190\n",
    "        else:\n",
    "            l,u = 5,100\n",
    "        m = scp.stats.linregress(x[l:u],y[l:u]).slope\n",
    "        b = -m*0.002\n",
    "        intercept = np.argmin(np.abs(y - (m*x + b)))\n",
    "        ys.append(y[intercept])\n",
    "        uts.append(max(y))\n",
    "        labels.append(label)\n",
    "ax.legend()\n",
    "ax.grid()\n",
    "ax.set_ylabel('Stress  [MPa]')\n",
    "ax.set_xlabel('Strain  [mm/mm]')\n",
    "fig.savefig('plots/q2weld.png',dpi = 600)\n",
    "plt.close()\n",
    "\n",
    "keys = ['q2steel','q2alum']\n",
    "labels = ['1018 Steel','6061 Aluminum']\n",
    "fig,ax = plt.subplots()\n",
    "for k,l in zip(keys,labels):\n",
    "    x,y = D[k]['strain'],D[k]['stress']\n",
    "    ax.plot(x,y,label = l)\n",
    "    if k == 'q2alum':\n",
    "        u = 50\n",
    "    else:\n",
    "        u = 75\n",
    "    m = scp.stats.linregress(x[:u],y[:u]).slope\n",
    "    b = -m*0.002\n",
    "    intercept = np.argmin(np.abs(y - (m*x + b)))\n",
    "    ys.append(y[intercept])\n",
    "    uts.append(max(y))\n",
    "    labels.append(l)\n",
    "ax.grid()\n",
    "ax.legend()\n",
    "fig.savefig('plots/q2norm.png')\n",
    "plt.close()\n",
    "rows = ['Material','Yield Strength','Ultimate Tensile Strength']\n",
    "vals = [labels,ys,uts]\n",
    "for r,v in zip(rows,vals):\n",
    "    print(to_latex(r,v))\n",
    "    print('\\hline')"
   ]
  },
  {
   "cell_type": "markdown",
   "id": "d8a51b00-14e9-4af7-966b-bc474c722c79",
   "metadata": {},
   "source": [
    "## Deliv 3"
   ]
  },
  {
   "cell_type": "code",
   "execution_count": 368,
   "id": "2872ee99-4131-47ee-8a8f-acab3f70e889",
   "metadata": {},
   "outputs": [
    {
     "name": "stdout",
     "output_type": "stream",
     "text": [
      "1018 Vickers was 230.77143532415633 \n",
      "\n",
      "6061 Vickers was 29.378363052779825\n"
     ]
    }
   ],
   "source": [
    "def vickers(arr):\n",
    "    return 1.85 * .5 / arr**2\n",
    "\n",
    "v1018 = pd.read_csv('1018v.txt',sep='\\t')\n",
    "diag18 = (np.array(v1018['x-diag']) + np.array(v1018['y-diag']))/2 * 1e-3\n",
    "pt = np.array(v1018['Number'])\n",
    "v1018 = vickers(diag18)\n",
    "f1018 = scp.interpolate.make_smoothing_spline(pt,v1018,lam=.7)\n",
    "\n",
    "\n",
    "dist = np.linspace(0,25,26)\n",
    "xdiag = [1.68E+02,1.95E+02,1.81E+02,1.84E+02,1.79E+02,1.75E+02,1.71E+02,1.78E+02,1.85E+02,1.92E+02,1.64E+02,2.19E+02,1.71E+02,2.00E+02,1.86E+02,1.97E+02,2.13E+02,2.36E+02,1.80E+02,1.98E+02,1.65E+02,1.49E+02,1.47E+02,1.21E+02,1.59E+02,2.00E+02]\n",
    "ydiag = [1.67E+02,1.98E+02,1.89E+02,1.86E+02,1.80E+02,1.76E+02,1.77E+02,1.77E+02,1.85E+02,1.90E+02,1.69E+02,2.21E+02,1.77E+02,2.01E+02,1.88E+02,2.10E+02,2.15E+02,2.28E+02,1.84E+02,2.04E+02,1.68E+02,1.50E+02,1.51E+02,1.19E+02,1.62E+02,2.08E+02]\n",
    "diag61 = (np.array(xdiag)+np.array(ydiag))/2 * 1e-3\n",
    "v6061 = vickers(diag61)\n",
    "f6061 = scp.interpolate.make_smoothing_spline(dist,v6061,lam=.7)\n",
    "\n",
    "x1 = np.linspace(pt[0],pt[-1],1000)\n",
    "x6 = np.linspace(dist[0],dist[-1],1000)\n",
    "fig,ax  = plt.subplot_mosaic([['6061','1018']],figsize = (12,5))\n",
    "ax['1018'].plot(pt,v1018,'.',color = 'k',label = 'Vickers 1018')\n",
    "ax['1018'].plot(x1,f1018(x1),label = 'Spline Interpolation')\n",
    "ax['6061'].plot(dist,v6061,'.',color = 'k',label = 'Vickers 6061')\n",
    "ax['6061'].plot(x6,f6061(x6),label = 'Spline Interpolation')\n",
    "for key in ax.keys():\n",
    "    ax[key].grid()\n",
    "    ax[key].legend()\n",
    "fig.savefig('plots/q4.png',dpi=600)\n",
    "plt.close()\n",
    "print(f'1018 Vickers was {np.average(v1018)} \\n\\n6061 Vickers was {np.average(v6061)}')"
   ]
  },
  {
   "cell_type": "code",
   "execution_count": 333,
   "id": "449274ef-a1fc-41d1-b819-8d220d8e855c",
   "metadata": {},
   "outputs": [
    {
     "data": {
      "text/plain": [
       "array([ 0.,  1.,  2.,  3.,  4.,  5.,  6.,  7.,  8.,  9., 10., 11., 12.,\n",
       "       13., 14., 15., 16., 17., 18., 19., 20., 21., 22., 23., 24., 25.])"
      ]
     },
     "execution_count": 333,
     "metadata": {},
     "output_type": "execute_result"
    }
   ],
   "source": [
    "dist"
   ]
  },
  {
   "cell_type": "code",
   "execution_count": 320,
   "id": "82d93a5a-a225-439a-8ced-5b1fff18ac35",
   "metadata": {},
   "outputs": [],
   "source": []
  },
  {
   "cell_type": "code",
   "execution_count": 312,
   "id": "c6044f69-1384-4c54-94b2-c1907bfa47c6",
   "metadata": {},
   "outputs": [
    {
     "data": {
      "text/plain": [
       "'d'"
      ]
     },
     "execution_count": 312,
     "metadata": {},
     "output_type": "execute_result"
    }
   ],
   "source": [
    "a = 'bcd'\n",
    "a.replace('bc','')"
   ]
  },
  {
   "cell_type": "code",
   "execution_count": null,
   "id": "f8dcc01f-d871-415a-bcd3-8a5cd6ecc5fc",
   "metadata": {},
   "outputs": [],
   "source": []
  }
 ],
 "metadata": {
  "kernelspec": {
   "display_name": "Python 3 (ipykernel)",
   "language": "python",
   "name": "python3"
  },
  "language_info": {
   "codemirror_mode": {
    "name": "ipython",
    "version": 3
   },
   "file_extension": ".py",
   "mimetype": "text/x-python",
   "name": "python",
   "nbconvert_exporter": "python",
   "pygments_lexer": "ipython3",
   "version": "3.10.14"
  }
 },
 "nbformat": 4,
 "nbformat_minor": 5
}
